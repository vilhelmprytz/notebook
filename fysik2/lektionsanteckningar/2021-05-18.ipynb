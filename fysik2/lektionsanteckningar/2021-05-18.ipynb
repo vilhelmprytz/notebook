{
 "cells": [
  {
   "cell_type": "markdown",
   "id": "designed-ultimate",
   "metadata": {},
   "source": [
    "# Fysik 2: Avståndsmätning i rymden"
   ]
  },
  {
   "cell_type": "markdown",
   "id": "olympic-swiss",
   "metadata": {},
   "source": [
    "## Uppgift 5\n",
    "\n",
    "Stjärnan Alpha Centauri A tillhör stjärnsystemet Alpha Centauri som är det stjärnsystem som ligger närmast solsystemet. Parallaxvinkeln till Alpha Centauri A är ca 0,755 bågsekunder. Bestäm avståndet från jorden till Alpha Centauri A. \n",
    "\n",
    "Svara i:\n",
    "\n",
    "- Parsec\n",
    "- meter\n",
    "- AU"
   ]
  },
  {
   "cell_type": "markdown",
   "id": "absolute-cincinnati",
   "metadata": {},
   "source": [
    "Vi vill omvandla bågsekunder till radianer så vi kan räkna med det enklare.\n",
    "\n",
    "$1^{\\circ} = \\frac{\\pi}{180^{\\circ}} \\ rad$\n",
    "\n",
    "$x^{\\circ} = \\frac{x \\cdot \\pi}{180^{\\circ}} \\ rad$\n",
    "\n",
    "$1'' = \\frac{\\pi}{180^{\\circ} \\cdot 3600} \\ rad$\n",
    "\n",
    "$x'' = \\frac{x \\cdot \\pi}{180^{\\circ} \\cdot 3600} \\ rad$"
   ]
  },
  {
   "cell_type": "code",
   "execution_count": 1,
   "id": "structured-democracy",
   "metadata": {},
   "outputs": [
    {
     "name": "stdout",
     "output_type": "stream",
     "text": [
      "Avstånd mellan jorden och Alpha Centauri A\n",
      "4.0869901741698776e+16 m\n",
      "1.3245033114721387 pc\n",
      "273198.4188709364 au\n"
     ]
    }
   ],
   "source": [
    "# importera bibliotek\n",
    "import numpy as np\n",
    "\n",
    "def arsec_to_radians(arcsec: int):\n",
    "    return (arcsec * np.pi)/(180*3600)\n",
    "\n",
    "# p är parallaxvinkeln mätt i radianer\n",
    "p = arsec_to_radians(0.755)\n",
    "\n",
    "# vi definierar en au, mätt i m\n",
    "def au(x: int):\n",
    "    return x * 149597870700\n",
    "\n",
    "# vi vet att sin(p) = au(1) / r där r är avståndet vi söker\n",
    "# därför är r = au(1) / sin(p)\n",
    "r = au(1) / (np.sin(p))\n",
    "\n",
    "# vi vill också konvertera detta till Parsec\n",
    "r_pc = r * 3.2407792899604 * 10**-17\n",
    "\n",
    "# och till au\n",
    "r_au = 1 / np.sin(p)\n",
    "\n",
    "print(\"Avstånd mellan jorden och Alpha Centauri A\")\n",
    "print(f\"{r} m\")\n",
    "print(f\"{r_pc} pc\")\n",
    "print(f\"{r_au} au\")"
   ]
  }
 ],
 "metadata": {
  "kernelspec": {
   "display_name": "Python 3",
   "language": "python",
   "name": "python3"
  },
  "language_info": {
   "codemirror_mode": {
    "name": "ipython",
    "version": 3
   },
   "file_extension": ".py",
   "mimetype": "text/x-python",
   "name": "python",
   "nbconvert_exporter": "python",
   "pygments_lexer": "ipython3",
   "version": "3.9.5"
  }
 },
 "nbformat": 4,
 "nbformat_minor": 5
}
