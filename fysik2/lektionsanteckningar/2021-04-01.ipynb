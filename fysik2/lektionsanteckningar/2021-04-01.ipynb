{
 "cells": [
  {
   "cell_type": "markdown",
   "id": "acquired-allah",
   "metadata": {},
   "source": [
    "# 2021-04-01\n",
    "\n",
    "## De Broglies formel\n",
    "\n",
    "Parikelstrålar.\n",
    "\n",
    "Kan uppfattas som en vågrörelse.\n",
    "\n",
    "$$\\lambda = \\frac{h}{p}$$\n",
    "\n",
    "Gäller för alla föremål (p är föremålets rörelsemängd).\n",
    "\n",
    "de Broglie-våglängd $\\lambda = \\frac{h}{mv}$"
   ]
  },
  {
   "cell_type": "markdown",
   "id": "complicated-liability",
   "metadata": {},
   "source": [
    "## Frågor\n",
    "\n",
    "**a) Hur står våglängd har en elektron som accelereras av spänningen 100 V?**\n",
    "\n",
    "$$\\lambda = \\frac{h}{p} = \\frac{h}{m\\cdot v}$$\n",
    "\n",
    "$$U \\cdot q = \\frac{mv^2}{2}$$\n",
    "\n",
    "$$v = \\sqrt{\\frac{2Uq}{m}}$$"
   ]
  },
  {
   "cell_type": "code",
   "execution_count": 1,
   "id": "amazing-retrieval",
   "metadata": {},
   "outputs": [
    {
     "name": "stdout",
     "output_type": "stream",
     "text": [
      "Våglängd: 1.2264170327381804e-10 m\n"
     ]
    }
   ],
   "source": [
    "import numpy as np\n",
    "\n",
    "# https://en.wikipedia.org/wiki/Planck_constant\n",
    "h = 6.62607015 * 10**-34\n",
    "\n",
    "# elektronens masssa\n",
    "m = 9.10938356 * 10**-31\n",
    "\n",
    "# elektronens laddning\n",
    "q = 1.6022 * 10**-19\n",
    "\n",
    "U = 100 # V enligt uppgift\n",
    "\n",
    "v = np.sqrt(U*q*2/m)\n",
    "\n",
    "wavelength = h / (m * v)\n",
    "print(f\"Våglängd: {wavelength} m\")"
   ]
  },
  {
   "cell_type": "markdown",
   "id": "spatial-preparation",
   "metadata": {},
   "source": [
    "Våglängden är större än elektronen. Då är vågegenskapen märkbar."
   ]
  },
  {
   "cell_type": "markdown",
   "id": "furnished-pathology",
   "metadata": {},
   "source": [
    "En lite förenklad formel.\n",
    "\n",
    "$$\\sqrt{2 \\cdot m \\cdot U \\cdot q} = mv$$\n",
    "\n",
    "$$\\lambda = \\frac{h}{\\sqrt{2 \\cdot m \\cdot U \\cdot q}}$$"
   ]
  },
  {
   "cell_type": "code",
   "execution_count": 2,
   "id": "pressed-sigma",
   "metadata": {},
   "outputs": [
    {
     "name": "stdout",
     "output_type": "stream",
     "text": [
      "Våglängd: 1.2264170327381804e-10 m\n"
     ]
    }
   ],
   "source": [
    "# använd förenklat sätt\n",
    "wavelength = h / (np.sqrt(2 * m * U * q))\n",
    "print(f\"Våglängd: {wavelength} m\")"
   ]
  },
  {
   "cell_type": "markdown",
   "id": "helpful-vacation",
   "metadata": {},
   "source": [
    "**b) Hur stor våglängd har en golfboll med hastigheten 200 km/h? En golfboll väger ca 46 g.**\n",
    "\n",
    "$$\\lambda = \\frac{h}{p} = \\frac{h}{m \\cdot v}$$\n",
    "\n",
    "$$m = 0,046 \\ kg$$\n",
    "\n",
    "$$v = 220 \\ km/h = \\frac{220}{3,6} \\ m/s$$"
   ]
  },
  {
   "cell_type": "code",
   "execution_count": 3,
   "id": "skilled-branch",
   "metadata": {},
   "outputs": [
    {
     "name": "stdout",
     "output_type": "stream",
     "text": [
      "Våglängd: 2.422575054841897e-34 m\n"
     ]
    }
   ],
   "source": [
    "m = 0.046\n",
    "v = 220 / 3.7\n",
    "\n",
    "wavelength = h / (m * v)\n",
    "print(f\"Våglängd: {wavelength} m\")"
   ]
  },
  {
   "cell_type": "markdown",
   "id": "regulation-lithuania",
   "metadata": {},
   "source": [
    "## Uppgifter boken\n",
    "\n",
    "### 12.19\n",
    "\n",
    "a)"
   ]
  },
  {
   "cell_type": "code",
   "execution_count": 4,
   "id": "dated-pharmacy",
   "metadata": {},
   "outputs": [
    {
     "name": "stdout",
     "output_type": "stream",
     "text": [
      "Energi: 5.6077e-16 J\n"
     ]
    }
   ],
   "source": [
    "U = 3.5 * 10**3\n",
    "q = 1.6022 * 10**-19\n",
    "\n",
    "E = U * q\n",
    "print(f\"Energi: {E} J\")"
   ]
  },
  {
   "cell_type": "markdown",
   "id": "terminal-truck",
   "metadata": {},
   "source": [
    "b)"
   ]
  },
  {
   "cell_type": "code",
   "execution_count": 5,
   "id": "every-suite",
   "metadata": {},
   "outputs": [
    {
     "name": "stdout",
     "output_type": "stream",
     "text": [
      "Rörelsemängd: 3.196264673020681e-23 kgm/s\n"
     ]
    }
   ],
   "source": [
    "m = 9.109 * 10**-31\n",
    "p = np.sqrt(2 * U * q * m)\n",
    "print(f\"Rörelsemängd: {p} kgm/s\")"
   ]
  },
  {
   "cell_type": "markdown",
   "id": "front-indiana",
   "metadata": {},
   "source": [
    "c)"
   ]
  },
  {
   "cell_type": "code",
   "execution_count": 6,
   "id": "focused-tension",
   "metadata": {},
   "outputs": [
    {
     "name": "stdout",
     "output_type": "stream",
     "text": [
      "de Broglie-våglängden: 2.073066791348642e-11 m\n"
     ]
    }
   ],
   "source": [
    "wavelength = h / p\n",
    "print(f\"de Broglie-våglängden: {wavelength} m\")"
   ]
  },
  {
   "cell_type": "markdown",
   "id": "unlike-cement",
   "metadata": {},
   "source": [
    "### 12.20\n",
    "\n",
    "$$\\lambda = \\frac{h}{m \\cdot v}$$\n",
    "\n",
    "$$mv = \\frac{h}{\\lambda}$$"
   ]
  },
  {
   "cell_type": "code",
   "execution_count": 7,
   "id": "through-voluntary",
   "metadata": {},
   "outputs": [
    {
     "name": "stdout",
     "output_type": "stream",
     "text": [
      "Rörelsemängd: 6.626070149999999e-24 kgm/s\n",
      "Rörelseenergi: 2.4099684725393024e-17 J\n"
     ]
    }
   ],
   "source": [
    "wavelength = 0.10 * 10**-9 # m\n",
    "p = h / wavelength\n",
    "v = p / m\n",
    "E = m*v**2 / 2\n",
    "\n",
    "print(f\"Rörelsemängd: {p} kgm/s\")\n",
    "print(f\"Rörelseenergi: {E} J\")"
   ]
  },
  {
   "cell_type": "markdown",
   "id": "challenging-money",
   "metadata": {},
   "source": [
    "### 12.21\n",
    "\n",
    "$$E = 40 \\ eV$$\n",
    "$$d = 0,215 \\ nm$$\n",
    "\n",
    "\n",
    "$$n \\lambda = d \\sin{\\alpha_n}$$\n",
    "$$\\sin{\\alpha_n} = \\frac{n \\lambda}{d}$$\n",
    "\n",
    "Rörelseenergin som står i uppgiften ska motsvara den som kan skrivas på formlen $\\frac{mv^2}{2}$.\n",
    "\n",
    "$$\n",
    "\\frac{mv^2}{2} = E \\\\\n",
    "m \\cdot v^2 = E \\cdot 2 \\\\\n",
    "m^2 \\cdot v^2 = E \\cdot 2 \\cdot m \\\\\n",
    "mv = P = \\sqrt{E \\cdot 2 \\cdot m}\n",
    "$$"
   ]
  },
  {
   "cell_type": "code",
   "execution_count": 8,
   "id": "united-motivation",
   "metadata": {},
   "outputs": [
    {
     "name": "stdout",
     "output_type": "stream",
     "text": [
      "Vinkel: 64.41533624118661 grader från normalen\n"
     ]
    }
   ],
   "source": [
    "E = 40 * 1.60218 * 10**-19 # 40 eV i joule\n",
    "d = 0.215 * 10**-9 # 0.215 nm till m\n",
    "n = 1 # enligt uppgift\n",
    "\n",
    "p = np.sqrt(E * 2 * m)\n",
    "wavelength = h / p\n",
    "\n",
    "sin_alpha = n * wavelength / d\n",
    "angle = np.degrees(np.arcsin(sin_alpha))\n",
    "\n",
    "print(f\"Vinkel: {angle} grader från normalen\")"
   ]
  }
 ],
 "metadata": {
  "kernelspec": {
   "display_name": "Python 3",
   "language": "python",
   "name": "python3"
  },
  "language_info": {
   "codemirror_mode": {
    "name": "ipython",
    "version": 3
   },
   "file_extension": ".py",
   "mimetype": "text/x-python",
   "name": "python",
   "nbconvert_exporter": "python",
   "pygments_lexer": "ipython3",
   "version": "3.7.3"
  }
 },
 "nbformat": 4,
 "nbformat_minor": 5
}
