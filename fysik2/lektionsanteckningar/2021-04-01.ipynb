{
 "cells": [
  {
   "cell_type": "markdown",
   "id": "olympic-modern",
   "metadata": {},
   "source": [
    "# 2021-04-01\n",
    "\n",
    "## De Broglies formel\n",
    "\n",
    "Parikelstrålar.\n",
    "\n",
    "Kan uppfattas som en vågrörelse.\n",
    "\n",
    "$$\\lambda = \\frac{h}{p}$$\n",
    "\n",
    "Gäller för alla föremål (p är föremålets rörelsemängd).\n",
    "\n",
    "de Broglie-våglängd $\\lambda = \\frac{h}{mv}$"
   ]
  },
  {
   "cell_type": "markdown",
   "id": "revolutionary-department",
   "metadata": {},
   "source": [
    "## Frågor\n",
    "\n",
    "**a) Hur står våglängd har en elektron som accelereras av spänningen 100 V?**\n",
    "\n",
    "$$\\lambda = \\frac{h}{p} = \\frac{h}{m\\cdot v}$$\n",
    "\n",
    "$$U \\cdot q = \\frac{mv^2}{2}$$\n",
    "\n",
    "$$v = \\sqrt{\\frac{2Uq}{m}}$$"
   ]
  },
  {
   "cell_type": "code",
   "execution_count": 1,
   "id": "interested-georgia",
   "metadata": {},
   "outputs": [
    {
     "name": "stdout",
     "output_type": "stream",
     "text": [
      "Våglängd: 1.2264170327381804e-10 m\n"
     ]
    }
   ],
   "source": [
    "import numpy as np\n",
    "\n",
    "# https://en.wikipedia.org/wiki/Planck_constant\n",
    "h = 6.62607015 * 10**-34\n",
    "\n",
    "# elektronens masssa\n",
    "m = 9.10938356 * 10**-31\n",
    "\n",
    "# elektronens laddning\n",
    "q = 1.6022 * 10**-19\n",
    "\n",
    "U = 100 # V enligt uppgift\n",
    "\n",
    "v = np.sqrt(U*q*2/m)\n",
    "\n",
    "wavelength = h / (m * v)\n",
    "print(f\"Våglängd: {wavelength} m\")"
   ]
  },
  {
   "cell_type": "markdown",
   "id": "leading-reducing",
   "metadata": {},
   "source": [
    "Våglängden är större än elektronen. Då är vågegenskapen märkbar."
   ]
  },
  {
   "cell_type": "markdown",
   "id": "successful-bridges",
   "metadata": {},
   "source": [
    "En lite förenklad formel.\n",
    "\n",
    "$$\\sqrt{2 \\cdot m \\cdot U \\cdot q} = mv$$\n",
    "\n",
    "$$\\lambda = \\frac{h}{\\sqrt{2 \\cdot m \\cdot U \\cdot q}}$$"
   ]
  },
  {
   "cell_type": "code",
   "execution_count": 2,
   "id": "optimum-creativity",
   "metadata": {},
   "outputs": [
    {
     "name": "stdout",
     "output_type": "stream",
     "text": [
      "Våglängd: 1.2264170327381804e-10 m\n"
     ]
    }
   ],
   "source": [
    "# använd förenklat sätt\n",
    "wavelength = h / (np.sqrt(2 * m * U * q))\n",
    "print(f\"Våglängd: {wavelength} m\")"
   ]
  },
  {
   "cell_type": "markdown",
   "id": "reliable-toner",
   "metadata": {},
   "source": [
    "**b) Hur stor våglängd har en golfboll med hastigheten 200 km/h? En golfboll väger ca 46 g.**\n",
    "\n",
    "$$\\lambda = \\frac{h}{p} = \\frac{h}{m \\cdot v}$$\n",
    "\n",
    "$$m = 0,046 \\ kg$$\n",
    "\n",
    "$$v = 220 \\ km/h = \\frac{220}{3,6} \\ m/s$$"
   ]
  },
  {
   "cell_type": "code",
   "execution_count": 3,
   "id": "current-forest",
   "metadata": {},
   "outputs": [
    {
     "name": "stdout",
     "output_type": "stream",
     "text": [
      "Våglängd: 2.422575054841897e-34 m\n"
     ]
    }
   ],
   "source": [
    "m = 0.046\n",
    "v = 220 / 3.7\n",
    "\n",
    "wavelength = h / (m * v)\n",
    "print(f\"Våglängd: {wavelength} m\")"
   ]
  }
 ],
 "metadata": {
  "kernelspec": {
   "display_name": "Python 3",
   "language": "python",
   "name": "python3"
  },
  "language_info": {
   "codemirror_mode": {
    "name": "ipython",
    "version": 3
   },
   "file_extension": ".py",
   "mimetype": "text/x-python",
   "name": "python",
   "nbconvert_exporter": "python",
   "pygments_lexer": "ipython3",
   "version": "3.7.3"
  }
 },
 "nbformat": 4,
 "nbformat_minor": 5
}
