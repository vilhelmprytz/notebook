{
 "cells": [
  {
   "cell_type": "markdown",
   "id": "medium-darkness",
   "metadata": {},
   "source": [
    "# Bestäm laserns våglängd\n",
    "\n",
    "![](overview.png)\n",
    "\n",
    "Bestämma laserns våglängd."
   ]
  },
  {
   "cell_type": "code",
   "execution_count": 1,
   "id": "progressive-guidance",
   "metadata": {},
   "outputs": [],
   "source": [
    "# importera bibliotek\n",
    "import numpy as np\n",
    "import matplotlib.pyplot as plt\n",
    "import pandas as pd"
   ]
  },
  {
   "cell_type": "code",
   "execution_count": 2,
   "id": "exciting-reader",
   "metadata": {},
   "outputs": [],
   "source": [
    "# inställningar\n",
    "\n",
    "# antal punkter vi vill räkna mätvärden för\n",
    "n_num = 3"
   ]
  },
  {
   "cell_type": "code",
   "execution_count": 3,
   "id": "cathedral-postcard",
   "metadata": {},
   "outputs": [
    {
     "data": {
      "text/html": [
       "<div>\n",
       "<style scoped>\n",
       "    .dataframe tbody tr th:only-of-type {\n",
       "        vertical-align: middle;\n",
       "    }\n",
       "\n",
       "    .dataframe tbody tr th {\n",
       "        vertical-align: top;\n",
       "    }\n",
       "\n",
       "    .dataframe thead th {\n",
       "        text-align: right;\n",
       "    }\n",
       "</style>\n",
       "<table border=\"1\" class=\"dataframe\">\n",
       "  <thead>\n",
       "    <tr style=\"text-align: right;\">\n",
       "      <th></th>\n",
       "      <th>Gitter lines/mm</th>\n",
       "      <th>Distance gitter to surface</th>\n",
       "      <th>n=1</th>\n",
       "      <th>n=2</th>\n",
       "      <th>n=3</th>\n",
       "    </tr>\n",
       "  </thead>\n",
       "  <tbody>\n",
       "    <tr>\n",
       "      <th>0</th>\n",
       "      <td>300</td>\n",
       "      <td>0.145</td>\n",
       "      <td>0.03</td>\n",
       "      <td>0.065</td>\n",
       "      <td>0.11</td>\n",
       "    </tr>\n",
       "  </tbody>\n",
       "</table>\n",
       "</div>"
      ],
      "text/plain": [
       "   Gitter lines/mm  Distance gitter to surface   n=1    n=2   n=3\n",
       "0              300                       0.145  0.03  0.065  0.11"
      ]
     },
     "execution_count": 3,
     "metadata": {},
     "output_type": "execute_result"
    }
   ],
   "source": [
    "# läs in laborationsdata\n",
    "df = pd.read_csv(\"data.csv\")\n",
    "df"
   ]
  },
  {
   "cell_type": "code",
   "execution_count": 4,
   "id": "composite-verse",
   "metadata": {},
   "outputs": [
    {
     "data": {
      "text/html": [
       "<div>\n",
       "<style scoped>\n",
       "    .dataframe tbody tr th:only-of-type {\n",
       "        vertical-align: middle;\n",
       "    }\n",
       "\n",
       "    .dataframe tbody tr th {\n",
       "        vertical-align: top;\n",
       "    }\n",
       "\n",
       "    .dataframe thead th {\n",
       "        text-align: right;\n",
       "    }\n",
       "</style>\n",
       "<table border=\"1\" class=\"dataframe\">\n",
       "  <thead>\n",
       "    <tr style=\"text-align: right;\">\n",
       "      <th></th>\n",
       "      <th>Gitter lines/mm</th>\n",
       "      <th>Distance gitter to surface</th>\n",
       "      <th>n=1</th>\n",
       "      <th>n=2</th>\n",
       "      <th>n=3</th>\n",
       "      <th>n=1 wavelength nm</th>\n",
       "      <th>n=2 wavelength nm</th>\n",
       "      <th>n=3 wavelength nm</th>\n",
       "    </tr>\n",
       "  </thead>\n",
       "  <tbody>\n",
       "    <tr>\n",
       "      <th>0</th>\n",
       "      <td>300</td>\n",
       "      <td>0.145</td>\n",
       "      <td>0.03</td>\n",
       "      <td>0.065</td>\n",
       "      <td>0.11</td>\n",
       "      <td>675.352013</td>\n",
       "      <td>681.75984</td>\n",
       "      <td>671.540535</td>\n",
       "    </tr>\n",
       "  </tbody>\n",
       "</table>\n",
       "</div>"
      ],
      "text/plain": [
       "   Gitter lines/mm  Distance gitter to surface   n=1    n=2   n=3  \\\n",
       "0              300                       0.145  0.03  0.065  0.11   \n",
       "\n",
       "   n=1 wavelength nm  n=2 wavelength nm  n=3 wavelength nm  \n",
       "0         675.352013          681.75984         671.540535  "
      ]
     },
     "execution_count": 4,
     "metadata": {},
     "output_type": "execute_result"
    }
   ],
   "source": [
    "def calculate_wavelength(row, n):\n",
    "    # beräkna \"d\", i meter\n",
    "    d = (1/row[\"Gitter lines/mm\"])/1000 # konverterar mm to m\n",
    "    \n",
    "    # beräkna vinkeln först\n",
    "    angle = np.arctan(row[f\"n={n}\"]/row[\"Distance gitter to surface\"])\n",
    "    \n",
    "    # beräkna våglängden, gör om till nanometer\n",
    "    wavelength = d*np.sin(angle) / n * 1000000000\n",
    "    \n",
    "    return wavelength\n",
    "    \n",
    "for n in range(1, n_num+1):\n",
    "    # beräkna våglängden med funktionen ovan\n",
    "    df[f\"n={n} wavelength nm\"] = df.apply(lambda row: calculate_wavelength(row, n), axis=1)\n",
    "\n",
    "df"
   ]
  }
 ],
 "metadata": {
  "kernelspec": {
   "display_name": "Python 3",
   "language": "python",
   "name": "python3"
  },
  "language_info": {
   "codemirror_mode": {
    "name": "ipython",
    "version": 3
   },
   "file_extension": ".py",
   "mimetype": "text/x-python",
   "name": "python",
   "nbconvert_exporter": "python",
   "pygments_lexer": "ipython3",
   "version": "3.9.2"
  }
 },
 "nbformat": 4,
 "nbformat_minor": 5
}
