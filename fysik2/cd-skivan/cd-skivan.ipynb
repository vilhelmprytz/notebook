{
 "cells": [
  {
   "cell_type": "markdown",
   "id": "civilian-failing",
   "metadata": {},
   "source": [
    "# Spårbredden hos en CD-skiva\n",
    "\n",
    "![Spårbredden hos en CD-skiva](cdskiva.png)\n",
    "\n",
    "Vilhelm Prytz  \n",
    "\n",
    "Medlaboranter: Pontus Liedgren  \n",
    "Handledare: Sanna Bodemyr  \n",
    "Tullinge gymnasium  \n",
    "2021-03-22\n",
    "\n",
    "## Syfte\n",
    "\n",
    "Syftet med denna undersökning är att bestämma spårbredden på en CD-skiva.\n",
    "\n",
    "## Frågeställningar\n",
    "\n",
    "Vilken spårbredd har CD-skivan?\n",
    "\n",
    "## Reflektion/diskussion\n",
    "\n",
    "För att bestämma spårbredden hos en CD-skiva går det att använda en laserpekare vars våglängd är känd (att ta reda på våglängden hos en laserpekare med okänd våglängd går att göra i en separat laboration), en CD-skiva, en linjal och stativmaterial.\n",
    "\n",
    "Med hjälp av dessa material går det att utnyttja CD-skivan som ett gitter. Genom att montera CD-skivan i ett stativmaterial kan laserns ställas så att dess stråle träffar CD-skivan och reflekteras mot en plan yta. På ytan ska då flera laserpunkter synas eftersom gittret (CD-skivan) reflekterar och släpper igenom enligt ett visst mönster.\n",
    "\n",
    "$d \\cdot \\sin{\\alpha} = n \\cdot \\lambda$"
   ]
  },
  {
   "cell_type": "markdown",
   "id": "integrated-closing",
   "metadata": {},
   "source": [
    "I tabellen nedan visas data som antecknades under laborationen. I första kolumnen visas våglängden i nanometer på den laser som användes. Våglängden för de två lasrar som användes under laborationen bestämdes under en tidigare laboration. I den andra kolumnen visas $n$, alltså ordningstalet (n:te ordningens sidomaxima), som längden uppmättes utifrån. Den tredje kolumnen, $x$, anger i meter avståndet mellan de bägge n:te ordningens sidomaxima. Till sist visas $L$, längden mellan CD-skivan (vårt gitter) och ytan där laserns punkter syns."
   ]
  },
  {
   "cell_type": "code",
   "execution_count": 1,
   "id": "reverse-movement",
   "metadata": {},
   "outputs": [],
   "source": [
    "# importera bibliotek som används i projektet\n",
    "import numpy as np # fler mattefunktioner än Python har inbyggt\n",
    "import matplotlib.pyplot as plt # plotta grafer!\n",
    "import pandas as pd # läsa in CSV-filer och visa tabeller utifrån dem"
   ]
  },
  {
   "cell_type": "code",
   "execution_count": 2,
   "id": "placed-desire",
   "metadata": {},
   "outputs": [
    {
     "data": {
      "text/html": [
       "<div>\n",
       "<style scoped>\n",
       "    .dataframe tbody tr th:only-of-type {\n",
       "        vertical-align: middle;\n",
       "    }\n",
       "\n",
       "    .dataframe tbody tr th {\n",
       "        vertical-align: top;\n",
       "    }\n",
       "\n",
       "    .dataframe thead th {\n",
       "        text-align: right;\n",
       "    }\n",
       "</style>\n",
       "<table border=\"1\" class=\"dataframe\">\n",
       "  <thead>\n",
       "    <tr style=\"text-align: right;\">\n",
       "      <th></th>\n",
       "      <th>Wavelength laser (nm)</th>\n",
       "      <th>n</th>\n",
       "      <th>x (m)</th>\n",
       "      <th>L (m)</th>\n",
       "    </tr>\n",
       "  </thead>\n",
       "  <tbody>\n",
       "    <tr>\n",
       "      <th>0</th>\n",
       "      <td>663</td>\n",
       "      <td>1</td>\n",
       "      <td>0.282</td>\n",
       "      <td>0.287</td>\n",
       "    </tr>\n",
       "    <tr>\n",
       "      <th>1</th>\n",
       "      <td>663</td>\n",
       "      <td>1</td>\n",
       "      <td>0.625</td>\n",
       "      <td>0.648</td>\n",
       "    </tr>\n",
       "    <tr>\n",
       "      <th>2</th>\n",
       "      <td>631</td>\n",
       "      <td>1</td>\n",
       "      <td>0.604</td>\n",
       "      <td>0.648</td>\n",
       "    </tr>\n",
       "    <tr>\n",
       "      <th>3</th>\n",
       "      <td>631</td>\n",
       "      <td>1</td>\n",
       "      <td>0.302</td>\n",
       "      <td>0.323</td>\n",
       "    </tr>\n",
       "    <tr>\n",
       "      <th>4</th>\n",
       "      <td>631</td>\n",
       "      <td>2</td>\n",
       "      <td>1.030</td>\n",
       "      <td>0.323</td>\n",
       "    </tr>\n",
       "  </tbody>\n",
       "</table>\n",
       "</div>"
      ],
      "text/plain": [
       "   Wavelength laser (nm)  n  x (m)  L (m)\n",
       "0                    663  1  0.282  0.287\n",
       "1                    663  1  0.625  0.648\n",
       "2                    631  1  0.604  0.648\n",
       "3                    631  1  0.302  0.323\n",
       "4                    631  2  1.030  0.323"
      ]
     },
     "execution_count": 2,
     "metadata": {},
     "output_type": "execute_result"
    }
   ],
   "source": [
    "# läs in laborationsdata\n",
    "# datan läses in ifrån en CSV-fil\n",
    "df = pd.read_csv(\"data.csv\")\n",
    "df # visa data som antecknades under labben"
   ]
  },
  {
   "cell_type": "markdown",
   "id": "encouraging-russian",
   "metadata": {},
   "source": [
    "Med hjälp av mätdatan kan gitterkonstanten $d$ beräknas. Gitterkonstanten kan beräknas med hjälp av varje rad i tabellen, vilket betyder att det kommer finnas lika många värden för gitterkonstanten som antalet mätvärden. Då samma CD-skiva används ska gitterkonstanten ha samma värde för samtliga mätvärden."
   ]
  },
  {
   "cell_type": "code",
   "execution_count": 3,
   "id": "secret-newspaper",
   "metadata": {},
   "outputs": [
    {
     "data": {
      "text/html": [
       "<div>\n",
       "<style scoped>\n",
       "    .dataframe tbody tr th:only-of-type {\n",
       "        vertical-align: middle;\n",
       "    }\n",
       "\n",
       "    .dataframe tbody tr th {\n",
       "        vertical-align: top;\n",
       "    }\n",
       "\n",
       "    .dataframe thead th {\n",
       "        text-align: right;\n",
       "    }\n",
       "</style>\n",
       "<table border=\"1\" class=\"dataframe\">\n",
       "  <thead>\n",
       "    <tr style=\"text-align: right;\">\n",
       "      <th></th>\n",
       "      <th>Wavelength laser (nm)</th>\n",
       "      <th>n</th>\n",
       "      <th>x (m)</th>\n",
       "      <th>L (m)</th>\n",
       "      <th>Lattice constant, d (nm)</th>\n",
       "    </tr>\n",
       "  </thead>\n",
       "  <tbody>\n",
       "    <tr>\n",
       "      <th>0</th>\n",
       "      <td>663</td>\n",
       "      <td>1</td>\n",
       "      <td>0.282</td>\n",
       "      <td>0.287</td>\n",
       "      <td>1503.578386</td>\n",
       "    </tr>\n",
       "    <tr>\n",
       "      <th>1</th>\n",
       "      <td>663</td>\n",
       "      <td>1</td>\n",
       "      <td>0.625</td>\n",
       "      <td>0.648</td>\n",
       "      <td>1526.314267</td>\n",
       "    </tr>\n",
       "    <tr>\n",
       "      <th>2</th>\n",
       "      <td>631</td>\n",
       "      <td>1</td>\n",
       "      <td>0.604</td>\n",
       "      <td>0.648</td>\n",
       "      <td>1493.752880</td>\n",
       "    </tr>\n",
       "    <tr>\n",
       "      <th>3</th>\n",
       "      <td>631</td>\n",
       "      <td>1</td>\n",
       "      <td>0.302</td>\n",
       "      <td>0.323</td>\n",
       "      <td>1489.966265</td>\n",
       "    </tr>\n",
       "    <tr>\n",
       "      <th>4</th>\n",
       "      <td>631</td>\n",
       "      <td>2</td>\n",
       "      <td>1.030</td>\n",
       "      <td>0.323</td>\n",
       "      <td>1489.673457</td>\n",
       "    </tr>\n",
       "  </tbody>\n",
       "</table>\n",
       "</div>"
      ],
      "text/plain": [
       "   Wavelength laser (nm)  n  x (m)  L (m)  Lattice constant, d (nm)\n",
       "0                    663  1  0.282  0.287               1503.578386\n",
       "1                    663  1  0.625  0.648               1526.314267\n",
       "2                    631  1  0.604  0.648               1493.752880\n",
       "3                    631  1  0.302  0.323               1489.966265\n",
       "4                    631  2  1.030  0.323               1489.673457"
      ]
     },
     "execution_count": 3,
     "metadata": {},
     "output_type": "execute_result"
    }
   ],
   "source": [
    "# funktion som beräknar spårbredden (gitterkonstanten) utifrån mätvärden i en given rad\n",
    "def calculate_lattice_constant(row):\n",
    "    # vinkeln i triangeln som uppstår mellan ytan som laserns\n",
    "    # punkter syns på och avståndet mellan CD-skivan och ytan\n",
    "    angle = np.arctan((row[\"x (m)\"]/2)/row[\"L (m)\"])\n",
    "\n",
    "    # enligt d * sin(alpha) = n * lambda\n",
    "    # så kan vi beräkna d, gitterkonstanten eller spårbredden, på detta sätt\n",
    "    d = (row[\"n\"] * row[\"Wavelength laser (nm)\"]) / np.sin(angle)\n",
    "\n",
    "    return d\n",
    "\n",
    "# med hjälp av df[\"Latic constant, d (nm)\"] skapas en ny kolumn i vår befintliga tabell df\n",
    "# och med df.apply körs en given funktion för varje rad i tabellen\n",
    "# värdena som syns i den nya kolumnen är alltså beräknade utifrån värdena i varje rad i tabellen\n",
    "# axis=1 betyder att funktionen körs för varje rad och inte för varje kolumn (axis=0)\n",
    "df[\"Lattice constant, d (nm)\"] = df.apply(lambda row: calculate_lattice_constant(row), axis=1)\n",
    "\n",
    "# skriv ut tabellen igen så vi kan se den nya kolumnen \"Latic constant, d (nm)\"\n",
    "# med dess beräknade värden\n",
    "df"
   ]
  },
  {
   "cell_type": "code",
   "execution_count": 4,
   "id": "neutral-gateway",
   "metadata": {},
   "outputs": [
    {
     "name": "stdout",
     "output_type": "stream",
     "text": [
      "Medelvärde: 1501 nm\n"
     ]
    }
   ],
   "source": [
    "# beräkna och skriv ut medelvärdet av gitterkonstanten för samtliga försök\n",
    "# med np.round() avrundas medelvärdet till närmsta heltal\n",
    "# int() används för att skriva ut det som ett heltal och inte .0 i slutet\n",
    "df_mean = int(np.round(df[f\"Lattice constant, d (nm)\"].mean()))\n",
    "print(f\"Medelvärde: {df_mean} nm\")"
   ]
  },
  {
   "cell_type": "markdown",
   "id": "buried-disease",
   "metadata": {},
   "source": [
    "Utifrån laborationens resultat är gitterkonstanten, alltså spårbredden, 1501 nm. Det betyder att det är 1501 nm mellan varje spår på CD-skivan enligt laborationens resultat."
   ]
  },
  {
   "cell_type": "code",
   "execution_count": 5,
   "id": "recorded-private",
   "metadata": {},
   "outputs": [
    {
     "name": "stdout",
     "output_type": "stream",
     "text": [
      "Standardavvikelse: 15.406384610091079\n",
      "Förhållande mellan standardavvikelsen och medelvärdet: 1.0%\n"
     ]
    }
   ],
   "source": [
    "# beräkna och skriv ut standardavvikelse\n",
    "std = df[f\"Lattice constant, d (nm)\"].std()\n",
    "print(f\"Standardavvikelse: {std}\")\n",
    "print(f\"Förhållande mellan standardavvikelsen och medelvärdet: {np.round(std/df_mean*100)}%\")"
   ]
  },
  {
   "cell_type": "markdown",
   "id": "adapted-messenger",
   "metadata": {},
   "source": [
    "Standardavvikelse är ett mått på hur mycket mätvärdena avviker från ett medelvärde. ${}^{1}$ Om förhållandet mellan standardavvikelsen och medelvärdet är lågt, betyder det att det att mätvärdena avviker lite från medelvärdet. Desto lägre förhållande mellan standardavvikelsen och medelvärdet, desto troligare är det att den faktiska gitterkonstanten ligger mycket nära det medelvärde som tagits fram i denna laboration. Förhållandet är i detta fall endast cirka $1,0\\%$ vilket gör laborationens resultat trovärdigt."
   ]
  },
  {
   "cell_type": "markdown",
   "id": "maritime-teddy",
   "metadata": {},
   "source": [
    "### Felkällor\n",
    "\n",
    "Laborationen har flertalet felkällor. För det första kan eventuella fel bero på mätutrustning. Linjalen som användes under laborationen för att mäta avståndet mellan laserns punkter och mellan CD-skivan och ytan var en enmeterslinjal. Denna linjal kan antas ha en noggrannhet på cirka 1 millimeter. Detta på grund av graderingen på linjalen. Denna felmarginal går det att räkna på. T.ex. kan felmarginalen läggas till på alla $x$ och subtraheras på alla $L$, se nedan."
   ]
  },
  {
   "cell_type": "code",
   "execution_count": 6,
   "id": "otherwise-damages",
   "metadata": {},
   "outputs": [
    {
     "name": "stdout",
     "output_type": "stream",
     "text": [
      "Nytt medelvärde med felmarginal: 1495 nm\n",
      "Felmarginal på medelvärdet jämfört med faktiska resultat: +/- 6 nm\n",
      "Felmarginalens förhållande till resultat: 0.4%\n"
     ]
    },
    {
     "data": {
      "text/html": [
       "<div>\n",
       "<style scoped>\n",
       "    .dataframe tbody tr th:only-of-type {\n",
       "        vertical-align: middle;\n",
       "    }\n",
       "\n",
       "    .dataframe tbody tr th {\n",
       "        vertical-align: top;\n",
       "    }\n",
       "\n",
       "    .dataframe thead th {\n",
       "        text-align: right;\n",
       "    }\n",
       "</style>\n",
       "<table border=\"1\" class=\"dataframe\">\n",
       "  <thead>\n",
       "    <tr style=\"text-align: right;\">\n",
       "      <th></th>\n",
       "      <th>Wavelength laser (nm)</th>\n",
       "      <th>n</th>\n",
       "      <th>x (m)</th>\n",
       "      <th>L (m)</th>\n",
       "      <th>Lattice constant, d (nm)</th>\n",
       "    </tr>\n",
       "  </thead>\n",
       "  <tbody>\n",
       "    <tr>\n",
       "      <th>0</th>\n",
       "      <td>663</td>\n",
       "      <td>1</td>\n",
       "      <td>0.283</td>\n",
       "      <td>0.286</td>\n",
       "      <td>1495.098834</td>\n",
       "    </tr>\n",
       "    <tr>\n",
       "      <th>1</th>\n",
       "      <td>663</td>\n",
       "      <td>1</td>\n",
       "      <td>0.626</td>\n",
       "      <td>0.647</td>\n",
       "      <td>1522.429337</td>\n",
       "    </tr>\n",
       "    <tr>\n",
       "      <th>2</th>\n",
       "      <td>631</td>\n",
       "      <td>1</td>\n",
       "      <td>0.605</td>\n",
       "      <td>0.647</td>\n",
       "      <td>1489.834866</td>\n",
       "    </tr>\n",
       "    <tr>\n",
       "      <th>3</th>\n",
       "      <td>631</td>\n",
       "      <td>1</td>\n",
       "      <td>0.303</td>\n",
       "      <td>0.322</td>\n",
       "      <td>1482.162248</td>\n",
       "    </tr>\n",
       "    <tr>\n",
       "      <th>4</th>\n",
       "      <td>631</td>\n",
       "      <td>2</td>\n",
       "      <td>1.031</td>\n",
       "      <td>0.322</td>\n",
       "      <td>1487.967294</td>\n",
       "    </tr>\n",
       "  </tbody>\n",
       "</table>\n",
       "</div>"
      ],
      "text/plain": [
       "   Wavelength laser (nm)  n  x (m)  L (m)  Lattice constant, d (nm)\n",
       "0                    663  1  0.283  0.286               1495.098834\n",
       "1                    663  1  0.626  0.647               1522.429337\n",
       "2                    631  1  0.605  0.647               1489.834866\n",
       "3                    631  1  0.303  0.322               1482.162248\n",
       "4                    631  2  1.031  0.322               1487.967294"
      ]
     },
     "execution_count": 6,
     "metadata": {},
     "output_type": "execute_result"
    }
   ],
   "source": [
    "# funktion som lägger på en felmarginal på en given kolumn\n",
    "def add_error_margin(row, column, error_margin):\n",
    "    return row[column] + error_margin\n",
    "\n",
    "# vi skapar en ny DataFrame (tabell) utifrån den gamla\n",
    "# tabellen så att vi kan göra justeringar till tabellens värden\n",
    "# utan att påverka den initial tabellen\n",
    "df2 = pd.DataFrame(df)\n",
    "\n",
    "# lägg till 0,005 m på alla x\n",
    "df2[\"x (m)\"] = df2.apply(lambda row: add_error_margin(row, \"x (m)\", 0.001), axis=1)\n",
    "\n",
    "# subtrahera 0,005 m på alla L\n",
    "df2[\"L (m)\"] = df2.apply(lambda row: add_error_margin(row, \"L (m)\", -0.001), axis=1)\n",
    "\n",
    "# beräkna gitterkonstanten för alla försök\n",
    "df2[\"Lattice constant, d (nm)\"] = df2.apply(lambda row: calculate_lattice_constant(row), axis=1)\n",
    "\n",
    "# beräkna och skriv ut medelvärdet av gitterkonstanten för samtliga försök\n",
    "# med np.round() avrundas medelvärdet till närmsta heltal\n",
    "# int() används för att skriva ut det som ett heltal och inte .0 i slutet\n",
    "df2_mean = int(np.round(df2[f\"Lattice constant, d (nm)\"].mean()))\n",
    "print(f\"Nytt medelvärde med felmarginal: {df2_mean} nm\")\n",
    "print(f\"Felmarginal på medelvärdet jämfört med faktiska resultat: +/- {df_mean - df2_mean} nm\")\n",
    "print(f\"Felmarginalens förhållande till resultat: {np.round((df_mean - df2_mean) / df_mean * 100, decimals=3)}%\")\n",
    "\n",
    "df2"
   ]
  },
  {
   "cell_type": "markdown",
   "id": "satisfied-cheat",
   "metadata": {},
   "source": [
    "Felmarginalen är alltså cirka $0,4\\%$ av det faktiska resultatet vilket gör denna felkälla försumbar."
   ]
  },
  {
   "cell_type": "markdown",
   "id": "applied-madrid",
   "metadata": {},
   "source": [
    "En annan felkälla kan vara det faktum att lasern som användes under laborationen inte var helt monokromatisk. Att en laser är monokromatisk betyder att den sänder ut en enda färg, alltså att allt ljus som kommer från lasern har exakt samma våglängd. En laser är inte helt monokromatisk, men nästan helt monokromatisk. ${}^{2}$ Våglängden på ljuset som sänds ut kan ha lite varierande våglängd och därför ha inverkan i resultatet."
   ]
  },
  {
   "cell_type": "markdown",
   "id": "signal-routine",
   "metadata": {},
   "source": [
    "- Felaktig våglängd på lasern. Laserns våglängd uppmättes under en annan laboration. Hur påverkar det resultatet?\n",
    "- ~~Felaktigt uppmätta värden. Mänsklig faktor.~~\n",
    "- ~~Låg noggrannhet på linjal.~~\n",
    "- Ej horisontellt liggande CD-skiva.\n",
    "- Ej rakt uppåt pekande laser.\n",
    "- ~~Ej monokromatisk laser.~~\n",
    "- Ojämnheter i CD-skivans yta (repig)."
   ]
  },
  {
   "cell_type": "markdown",
   "id": "mysterious-doubt",
   "metadata": {},
   "source": [
    "## Källhänvisningar\n",
    "\n",
    "1. Nationalencyklopedin. *Standardavvikelse*. Hämtad 2021-03-31 från https://www.ne.se/uppslagsverk/encyklopedi/l%C3%A5ng/standardavvikelse\n",
    "1. Laser Radiation Properties. (9 juni 2020). Hämtad 2021-03-31 från https://chem.libretexts.org/@go/page/74652"
   ]
  }
 ],
 "metadata": {
  "kernelspec": {
   "display_name": "Python 3",
   "language": "python",
   "name": "python3"
  },
  "language_info": {
   "codemirror_mode": {
    "name": "ipython",
    "version": 3
   },
   "file_extension": ".py",
   "mimetype": "text/x-python",
   "name": "python",
   "nbconvert_exporter": "python",
   "pygments_lexer": "ipython3",
   "version": "3.7.3"
  }
 },
 "nbformat": 4,
 "nbformat_minor": 5
}
