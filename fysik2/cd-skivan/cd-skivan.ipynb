{
 "cells": [
  {
   "cell_type": "markdown",
   "id": "incorporate-terminal",
   "metadata": {},
   "source": [
    "# Spårbredden hos en CD-skiva\n",
    "\n",
    "Medlaboranter: Pontus Liedgren  \n",
    "Handledare: Sanna Bodemyr  \n",
    "Tullinge gymnasium  \n",
    "2021-03-22\n",
    "\n",
    "## Syfte\n",
    "\n",
    "Syftet med denna undersökning är att bestämma spårbredden på en CD-skiva.\n",
    "\n",
    "## Frågeställningar\n",
    "\n",
    "Vilken spårbredd har CD-skivan?\n",
    "\n",
    "## Teori (kallas ibland bakgrund) \n",
    "Begrepp som kan tas upp:\n",
    "Reflektion, gitter, spårbredd, diffraktion, interferens (konstruktiv/destruktiv), maximum, centralmaximum, laserljus, våglängd.\n",
    "\n",
    "## Utförande\n",
    "\n",
    "Beskriv här i dåtid vad du gjort. "
   ]
  },
  {
   "cell_type": "code",
   "execution_count": 1,
   "id": "prescribed-amino",
   "metadata": {},
   "outputs": [],
   "source": [
    "# importera bibliotek\n",
    "import numpy as np\n",
    "import matplotlib.pyplot as plt\n",
    "import pandas as pd"
   ]
  },
  {
   "cell_type": "code",
   "execution_count": 2,
   "id": "conventional-access",
   "metadata": {},
   "outputs": [
    {
     "data": {
      "text/html": [
       "<div>\n",
       "<style scoped>\n",
       "    .dataframe tbody tr th:only-of-type {\n",
       "        vertical-align: middle;\n",
       "    }\n",
       "\n",
       "    .dataframe tbody tr th {\n",
       "        vertical-align: top;\n",
       "    }\n",
       "\n",
       "    .dataframe thead th {\n",
       "        text-align: right;\n",
       "    }\n",
       "</style>\n",
       "<table border=\"1\" class=\"dataframe\">\n",
       "  <thead>\n",
       "    <tr style=\"text-align: right;\">\n",
       "      <th></th>\n",
       "      <th>Wavelength laser (nm)</th>\n",
       "      <th>n</th>\n",
       "      <th>x (m)</th>\n",
       "      <th>L (m)</th>\n",
       "    </tr>\n",
       "  </thead>\n",
       "  <tbody>\n",
       "    <tr>\n",
       "      <th>0</th>\n",
       "      <td>663</td>\n",
       "      <td>1</td>\n",
       "      <td>0.282</td>\n",
       "      <td>0.287</td>\n",
       "    </tr>\n",
       "    <tr>\n",
       "      <th>1</th>\n",
       "      <td>663</td>\n",
       "      <td>1</td>\n",
       "      <td>0.625</td>\n",
       "      <td>0.648</td>\n",
       "    </tr>\n",
       "    <tr>\n",
       "      <th>2</th>\n",
       "      <td>631</td>\n",
       "      <td>1</td>\n",
       "      <td>0.604</td>\n",
       "      <td>0.648</td>\n",
       "    </tr>\n",
       "    <tr>\n",
       "      <th>3</th>\n",
       "      <td>631</td>\n",
       "      <td>1</td>\n",
       "      <td>0.302</td>\n",
       "      <td>0.323</td>\n",
       "    </tr>\n",
       "    <tr>\n",
       "      <th>4</th>\n",
       "      <td>631</td>\n",
       "      <td>2</td>\n",
       "      <td>1.030</td>\n",
       "      <td>0.323</td>\n",
       "    </tr>\n",
       "  </tbody>\n",
       "</table>\n",
       "</div>"
      ],
      "text/plain": [
       "   Wavelength laser (nm)  n  x (m)  L (m)\n",
       "0                    663  1  0.282  0.287\n",
       "1                    663  1  0.625  0.648\n",
       "2                    631  1  0.604  0.648\n",
       "3                    631  1  0.302  0.323\n",
       "4                    631  2  1.030  0.323"
      ]
     },
     "execution_count": 2,
     "metadata": {},
     "output_type": "execute_result"
    }
   ],
   "source": [
    "# läs in laborationsdata\n",
    "df = pd.read_csv(\"data.csv\")\n",
    "df # visa data som antecknades under labben"
   ]
  },
  {
   "cell_type": "code",
   "execution_count": 3,
   "id": "friendly-labor",
   "metadata": {},
   "outputs": [],
   "source": [
    "# beräkna"
   ]
  },
  {
   "cell_type": "markdown",
   "id": "accurate-lewis",
   "metadata": {},
   "source": [
    "## Diskussion"
   ]
  }
 ],
 "metadata": {
  "kernelspec": {
   "display_name": "Python 3",
   "language": "python",
   "name": "python3"
  },
  "language_info": {
   "codemirror_mode": {
    "name": "ipython",
    "version": 3
   },
   "file_extension": ".py",
   "mimetype": "text/x-python",
   "name": "python",
   "nbconvert_exporter": "python",
   "pygments_lexer": "ipython3",
   "version": "3.7.3"
  }
 },
 "nbformat": 4,
 "nbformat_minor": 5
}
