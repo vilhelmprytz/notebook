{
 "cells": [
  {
   "cell_type": "markdown",
   "id": "vertical-patio",
   "metadata": {},
   "source": [
    "# Spårbredden hos en CD-skiva\n",
    "\n",
    "![Spårbredden hos en CD-skiva](cdskiva.png)\n",
    "\n",
    "Vilhelm Prytz  \n",
    "\n",
    "Medlaboranter: Pontus Liedgren  \n",
    "Handledare: Sanna Bodemyr  \n",
    "Tullinge gymnasium  \n",
    "2021-03-22\n",
    "\n",
    "## Syfte\n",
    "\n",
    "Syftet med denna undersökning är att bestämma spårbredden på en CD-skiva.\n",
    "\n",
    "## Frågeställningar\n",
    "\n",
    "Vilken spårbredd har CD-skivan?\n",
    "\n",
    "## Reflektion/diskussion\n",
    "\n",
    "För att bestämma spårbredden hos en CD-skiva går det att använda en laserpekare vars våglängd är känd (att ta reda på våglängden hos en laserpekare med okänd våglängd går att göra i en separat laboration), en CD-skiva, en linjal och stativmaterial.\n",
    "\n",
    "Med hjälp av dessa material går det att utnyttja CD-skivan som ett diffraktionsgitter. Genom att montera CD-skivan i ett stativ kan lasern ställas så att dess stråle träffar CD-skivan och reflekteras mot en plan yta. På ytan ska då flera laserpunkter synas eftersom gittret (CD-skivans spår) reflekterar enligt ett visst mönster.\n",
    "\n",
    "För att bestämma spårbredden används nedanstående samband. $d$ är spårbredden (också benämnd som gitterkonstanten), $\\alpha$ är vinkeln mellan infallande och reflekterad laserstråle, $n$ är ordningstalet på reflektionsmaxima och $\\lambda$ är våglängden på den laser som används. ${}^{1}$\n",
    "\n",
    "$d \\cdot \\sin{\\alpha} = n \\cdot \\lambda$"
   ]
  },
  {
   "cell_type": "markdown",
   "id": "sacred-movement",
   "metadata": {},
   "source": [
    "I tabellen nedan visas data som antecknades under laborationen. I första kolumnen visas våglängden i nanometer på den laser som användes. Våglängden för de två lasrar som användes under laborationen bestämdes under en tidigare laboration. I den andra kolumnen visas $n$, alltså ordningstalet (n:te ordningens sidomaxima), som längden uppmättes utifrån. Den tredje kolumnen, $x$, anger i meter avståndet mellan de bägge n:te ordningens sidomaxima. Till sist visas $L$, längden mellan CD-skivan (vårt gitter) och ytan där laserns punkter syns (\"höjden\")."
   ]
  },
  {
   "cell_type": "code",
   "execution_count": 1,
   "id": "naval-couple",
   "metadata": {},
   "outputs": [],
   "source": [
    "# importera bibliotek som används i projektet\n",
    "import numpy as np # fler mattefunktioner än Python har inbyggt\n",
    "import matplotlib.pyplot as plt # plotta grafer!\n",
    "import pandas as pd # läsa in CSV-filer och visa tabeller utifrån dem"
   ]
  },
  {
   "cell_type": "code",
   "execution_count": 2,
   "id": "correct-honor",
   "metadata": {},
   "outputs": [
    {
     "data": {
      "text/html": [
       "<div>\n",
       "<style scoped>\n",
       "    .dataframe tbody tr th:only-of-type {\n",
       "        vertical-align: middle;\n",
       "    }\n",
       "\n",
       "    .dataframe tbody tr th {\n",
       "        vertical-align: top;\n",
       "    }\n",
       "\n",
       "    .dataframe thead th {\n",
       "        text-align: right;\n",
       "    }\n",
       "</style>\n",
       "<table border=\"1\" class=\"dataframe\">\n",
       "  <thead>\n",
       "    <tr style=\"text-align: right;\">\n",
       "      <th></th>\n",
       "      <th>Wavelength laser (nm)</th>\n",
       "      <th>n</th>\n",
       "      <th>x (m)</th>\n",
       "      <th>L (m)</th>\n",
       "    </tr>\n",
       "  </thead>\n",
       "  <tbody>\n",
       "    <tr>\n",
       "      <th>0</th>\n",
       "      <td>663</td>\n",
       "      <td>1</td>\n",
       "      <td>0.282</td>\n",
       "      <td>0.287</td>\n",
       "    </tr>\n",
       "    <tr>\n",
       "      <th>1</th>\n",
       "      <td>663</td>\n",
       "      <td>1</td>\n",
       "      <td>0.625</td>\n",
       "      <td>0.648</td>\n",
       "    </tr>\n",
       "    <tr>\n",
       "      <th>2</th>\n",
       "      <td>631</td>\n",
       "      <td>1</td>\n",
       "      <td>0.604</td>\n",
       "      <td>0.648</td>\n",
       "    </tr>\n",
       "    <tr>\n",
       "      <th>3</th>\n",
       "      <td>631</td>\n",
       "      <td>1</td>\n",
       "      <td>0.302</td>\n",
       "      <td>0.323</td>\n",
       "    </tr>\n",
       "    <tr>\n",
       "      <th>4</th>\n",
       "      <td>631</td>\n",
       "      <td>2</td>\n",
       "      <td>1.030</td>\n",
       "      <td>0.323</td>\n",
       "    </tr>\n",
       "  </tbody>\n",
       "</table>\n",
       "</div>"
      ],
      "text/plain": [
       "   Wavelength laser (nm)  n  x (m)  L (m)\n",
       "0                    663  1  0.282  0.287\n",
       "1                    663  1  0.625  0.648\n",
       "2                    631  1  0.604  0.648\n",
       "3                    631  1  0.302  0.323\n",
       "4                    631  2  1.030  0.323"
      ]
     },
     "execution_count": 2,
     "metadata": {},
     "output_type": "execute_result"
    }
   ],
   "source": [
    "# läs in laborationsdata\n",
    "# datan läses in ifrån en CSV-fil\n",
    "df = pd.read_csv(\"data.csv\")\n",
    "df # visa data som antecknades under labben"
   ]
  },
  {
   "cell_type": "markdown",
   "id": "final-finland",
   "metadata": {},
   "source": [
    "Med hjälp av mätdatan kan gitterkonstanten $d$ beräknas. I ett diffraktionsgitter är gitterkonstanten avståndet mellan två intilliggande ritsar, d.v.s. spårbredden. ${}^{2}$ Gitterkonstanten kan beräknas med hjälp av varje rad i tabellen, vilket betyder att det kommer finnas lika många värden för gitterkonstanten som antalet mätvärden. Då samma CD-skiva används ska i teorin gitterkonstanten ha samma värde för samtliga mätvärden."
   ]
  },
  {
   "cell_type": "code",
   "execution_count": 3,
   "id": "sonic-partner",
   "metadata": {},
   "outputs": [
    {
     "data": {
      "text/html": [
       "<div>\n",
       "<style scoped>\n",
       "    .dataframe tbody tr th:only-of-type {\n",
       "        vertical-align: middle;\n",
       "    }\n",
       "\n",
       "    .dataframe tbody tr th {\n",
       "        vertical-align: top;\n",
       "    }\n",
       "\n",
       "    .dataframe thead th {\n",
       "        text-align: right;\n",
       "    }\n",
       "</style>\n",
       "<table border=\"1\" class=\"dataframe\">\n",
       "  <thead>\n",
       "    <tr style=\"text-align: right;\">\n",
       "      <th></th>\n",
       "      <th>Wavelength laser (nm)</th>\n",
       "      <th>n</th>\n",
       "      <th>x (m)</th>\n",
       "      <th>L (m)</th>\n",
       "      <th>Lattice constant, d (nm)</th>\n",
       "    </tr>\n",
       "  </thead>\n",
       "  <tbody>\n",
       "    <tr>\n",
       "      <th>0</th>\n",
       "      <td>663</td>\n",
       "      <td>1</td>\n",
       "      <td>0.282</td>\n",
       "      <td>0.287</td>\n",
       "      <td>1503.578386</td>\n",
       "    </tr>\n",
       "    <tr>\n",
       "      <th>1</th>\n",
       "      <td>663</td>\n",
       "      <td>1</td>\n",
       "      <td>0.625</td>\n",
       "      <td>0.648</td>\n",
       "      <td>1526.314267</td>\n",
       "    </tr>\n",
       "    <tr>\n",
       "      <th>2</th>\n",
       "      <td>631</td>\n",
       "      <td>1</td>\n",
       "      <td>0.604</td>\n",
       "      <td>0.648</td>\n",
       "      <td>1493.752880</td>\n",
       "    </tr>\n",
       "    <tr>\n",
       "      <th>3</th>\n",
       "      <td>631</td>\n",
       "      <td>1</td>\n",
       "      <td>0.302</td>\n",
       "      <td>0.323</td>\n",
       "      <td>1489.966265</td>\n",
       "    </tr>\n",
       "    <tr>\n",
       "      <th>4</th>\n",
       "      <td>631</td>\n",
       "      <td>2</td>\n",
       "      <td>1.030</td>\n",
       "      <td>0.323</td>\n",
       "      <td>1489.673457</td>\n",
       "    </tr>\n",
       "  </tbody>\n",
       "</table>\n",
       "</div>"
      ],
      "text/plain": [
       "   Wavelength laser (nm)  n  x (m)  L (m)  Lattice constant, d (nm)\n",
       "0                    663  1  0.282  0.287               1503.578386\n",
       "1                    663  1  0.625  0.648               1526.314267\n",
       "2                    631  1  0.604  0.648               1493.752880\n",
       "3                    631  1  0.302  0.323               1489.966265\n",
       "4                    631  2  1.030  0.323               1489.673457"
      ]
     },
     "execution_count": 3,
     "metadata": {},
     "output_type": "execute_result"
    }
   ],
   "source": [
    "# funktion som beräknar spårbredden (gitterkonstanten) utifrån mätvärden i en given rad\n",
    "def calculate_lattice_constant(row, angle_error_margin = 0):\n",
    "    # vinkeln i triangeln som uppstår mellan ytan som laserns\n",
    "    # punkter syns på och avståndet mellan CD-skivan och ytan\n",
    "    # angle_error_margin används senare för att lägga på en vinkel som felmarginal\n",
    "    angle = np.arctan((row[\"x (m)\"]/2)/row[\"L (m)\"]) + angle_error_margin\n",
    "\n",
    "    # enligt d * sin(alpha) = n * lambda\n",
    "    # så kan vi beräkna d, gitterkonstanten eller spårbredden, på detta sätt\n",
    "    d = (row[\"n\"] * row[\"Wavelength laser (nm)\"]) / np.sin(angle)\n",
    "\n",
    "    return d\n",
    "\n",
    "# med hjälp av df[\"Lattice constant, d (nm)\"] skapas en ny kolumn i vår befintliga tabell df\n",
    "# och med df.apply körs en given funktion för varje rad i tabellen\n",
    "# värdena som syns i den nya kolumnen är alltså beräknade utifrån värdena i varje rad i tabellen\n",
    "# axis=1 betyder att funktionen körs för varje rad och inte för varje kolumn (axis=0)\n",
    "df[\"Lattice constant, d (nm)\"] = df.apply(lambda row: calculate_lattice_constant(row), axis=1)\n",
    "\n",
    "# skriv ut tabellen igen så vi kan se den nya kolumnen \"Latic constant, d (nm)\"\n",
    "# med dess beräknade värden\n",
    "df"
   ]
  },
  {
   "cell_type": "code",
   "execution_count": 4,
   "id": "interpreted-geometry",
   "metadata": {},
   "outputs": [
    {
     "name": "stdout",
     "output_type": "stream",
     "text": [
      "Medelvärde: 1501 nm\n"
     ]
    }
   ],
   "source": [
    "# beräkna och skriv ut medelvärdet av gitterkonstanten för samtliga försök\n",
    "# med np.round() avrundas medelvärdet till närmsta heltal\n",
    "# int() används för att skriva ut det som ett heltal och inte .0 i slutet\n",
    "df_mean = int(np.round(df[f\"Lattice constant, d (nm)\"].mean()))\n",
    "print(f\"Medelvärde: {df_mean} nm\")"
   ]
  },
  {
   "cell_type": "markdown",
   "id": "successful-integrity",
   "metadata": {},
   "source": [
    "Utifrån laborationens resultat är gitterkonstanten, alltså spårbredden, 1501 nm. Det betyder att det är 1501 nm mellan varje spår/rits på CD-skivan enligt laborationens resultat.\n",
    "\n",
    "Laborationens frågeställning är därmed besvarad. Resultat är rimligt, detta eftersom det ligger relativt nära det standardiserade värdet för CD-skivor, $1600 \\ nm$. ${}^{3}$ Detta är endast cirka $6 \\%$ från den gitterkonstant som togs fram empiriskt under denna laboration."
   ]
  },
  {
   "cell_type": "code",
   "execution_count": 5,
   "id": "funded-anderson",
   "metadata": {},
   "outputs": [
    {
     "name": "stdout",
     "output_type": "stream",
     "text": [
      "Standardavvikelse: 15.41\n",
      "Förhållande mellan standardavvikelsen och medelvärdet: 1.0%\n"
     ]
    }
   ],
   "source": [
    "# beräkna och skriv ut standardavvikelse\n",
    "# pandas har en inbyggd funktion för att automatiskt bestämma standardavvikelsen hos en datamängd\n",
    "std = df[f\"Lattice constant, d (nm)\"].std()\n",
    "print(f\"Standardavvikelse: {np.round(std, 2)}\")\n",
    "print(f\"Förhållande mellan standardavvikelsen och medelvärdet: {np.round(std/df_mean*100)}%\")"
   ]
  },
  {
   "cell_type": "markdown",
   "id": "capable-raleigh",
   "metadata": {},
   "source": [
    "Standardavvikelse är ett mått på hur mycket mätvärden avviker från ett medelvärde i en viss datamängd. ${}^{4}$ Om förhållandet mellan standardavvikelsen och medelvärdet är lågt, betyder det att det att mätvärdena avviker lite från medelvärdet. Desto lägre förhållande mellan standardavvikelsen och medelvärdet, desto troligare är det att den faktiska gitterkonstanten ligger mycket nära det medelvärde som tagits fram i denna laboration. Förhållandet är i detta fall endast cirka $1,0\\%$ vilket gör laborationens resultat trovärdigt. Samtidigt är det större skillnad mellan det empiriska resultatet och det standardiserade värdet ($1600 \\ nm$) vilket kan tyda på att laborationen har ett systematiskt fel i metoden eller att CD-skivan tillverkades utanför specifikation."
   ]
  },
  {
   "cell_type": "markdown",
   "id": "wanted-massage",
   "metadata": {},
   "source": [
    "### Felkällor\n",
    "\n",
    "Laborationen har flertalet felkällor. För det första kan eventuella fel bero på mätutrustning. Linjalen som användes under laborationen för att mäta avståndet mellan laserns punkter och mellan CD-skivan och ytan var en enmeterslinjal. Denna linjal kan antas ha en noggrannhet på cirka 1 millimeter. Detta på grund av graderingen på linjalen (som var $1 \\ mm$). Denna felmarginal går det att räkna på. T.ex. kan felmarginalen läggas till på alla $x$ och subtraheras på alla $L$, se nedan."
   ]
  },
  {
   "cell_type": "code",
   "execution_count": 6,
   "id": "precious-consolidation",
   "metadata": {},
   "outputs": [
    {
     "name": "stdout",
     "output_type": "stream",
     "text": [
      "Nytt medelvärde med felmarginal: 1495 nm\n",
      "Felmarginal på medelvärdet jämfört med faktiska resultat: +/- 6 nm\n",
      "Felmarginalens förhållande till resultat: 0.4%\n"
     ]
    },
    {
     "data": {
      "text/html": [
       "<div>\n",
       "<style scoped>\n",
       "    .dataframe tbody tr th:only-of-type {\n",
       "        vertical-align: middle;\n",
       "    }\n",
       "\n",
       "    .dataframe tbody tr th {\n",
       "        vertical-align: top;\n",
       "    }\n",
       "\n",
       "    .dataframe thead th {\n",
       "        text-align: right;\n",
       "    }\n",
       "</style>\n",
       "<table border=\"1\" class=\"dataframe\">\n",
       "  <thead>\n",
       "    <tr style=\"text-align: right;\">\n",
       "      <th></th>\n",
       "      <th>Wavelength laser (nm)</th>\n",
       "      <th>n</th>\n",
       "      <th>x (m)</th>\n",
       "      <th>L (m)</th>\n",
       "      <th>Lattice constant, d (nm)</th>\n",
       "    </tr>\n",
       "  </thead>\n",
       "  <tbody>\n",
       "    <tr>\n",
       "      <th>0</th>\n",
       "      <td>663</td>\n",
       "      <td>1</td>\n",
       "      <td>0.283</td>\n",
       "      <td>0.286</td>\n",
       "      <td>1495.098834</td>\n",
       "    </tr>\n",
       "    <tr>\n",
       "      <th>1</th>\n",
       "      <td>663</td>\n",
       "      <td>1</td>\n",
       "      <td>0.626</td>\n",
       "      <td>0.647</td>\n",
       "      <td>1522.429337</td>\n",
       "    </tr>\n",
       "    <tr>\n",
       "      <th>2</th>\n",
       "      <td>631</td>\n",
       "      <td>1</td>\n",
       "      <td>0.605</td>\n",
       "      <td>0.647</td>\n",
       "      <td>1489.834866</td>\n",
       "    </tr>\n",
       "    <tr>\n",
       "      <th>3</th>\n",
       "      <td>631</td>\n",
       "      <td>1</td>\n",
       "      <td>0.303</td>\n",
       "      <td>0.322</td>\n",
       "      <td>1482.162248</td>\n",
       "    </tr>\n",
       "    <tr>\n",
       "      <th>4</th>\n",
       "      <td>631</td>\n",
       "      <td>2</td>\n",
       "      <td>1.031</td>\n",
       "      <td>0.322</td>\n",
       "      <td>1487.967294</td>\n",
       "    </tr>\n",
       "  </tbody>\n",
       "</table>\n",
       "</div>"
      ],
      "text/plain": [
       "   Wavelength laser (nm)  n  x (m)  L (m)  Lattice constant, d (nm)\n",
       "0                    663  1  0.283  0.286               1495.098834\n",
       "1                    663  1  0.626  0.647               1522.429337\n",
       "2                    631  1  0.605  0.647               1489.834866\n",
       "3                    631  1  0.303  0.322               1482.162248\n",
       "4                    631  2  1.031  0.322               1487.967294"
      ]
     },
     "execution_count": 6,
     "metadata": {},
     "output_type": "execute_result"
    }
   ],
   "source": [
    "# funktion som lägger på en felmarginal på en given kolumn\n",
    "def add_error_margin(row, column, error_margin):\n",
    "    return row[column] + error_margin\n",
    "\n",
    "# funktion som skriver ut medelvärdet och jämför med laborationens resultat, df\n",
    "def compare_dataframes(adjusted_df):\n",
    "    # beräkna och skriv ut medelvärdet av gitterkonstanten för samtliga försök\n",
    "    # med np.round() avrundas medelvärdet till närmsta heltal\n",
    "    # int() används för att skriva ut det som ett heltal och inte .0 i slutet\n",
    "    adjusted_mean = int(np.round(adjusted_df[f\"Lattice constant, d (nm)\"].mean()))\n",
    "    print(f\"Nytt medelvärde med felmarginal: {adjusted_mean} nm\")\n",
    "    print(f\"Felmarginal på medelvärdet jämfört med faktiska resultat: +/- {df_mean - adjusted_mean} nm\")\n",
    "    print(f\"Felmarginalens förhållande till resultat: {np.round((df_mean - adjusted_mean) / df_mean * 100, decimals=3)}%\")\n",
    "\n",
    "# vi skapar en ny DataFrame (tabell) utifrån den gamla\n",
    "# tabellen så att vi kan göra justeringar till tabellens värden\n",
    "# utan att påverka den initiala tabellen\n",
    "df2 = pd.DataFrame(df)\n",
    "\n",
    "# lägg till 0,001 m (alltså 1 mm) på alla x\n",
    "df2[\"x (m)\"] = df2.apply(lambda row: add_error_margin(row, \"x (m)\", 0.001), axis=1)\n",
    "\n",
    "# subtrahera 0,001 m (alltså 1 mm) på alla L\n",
    "df2[\"L (m)\"] = df2.apply(lambda row: add_error_margin(row, \"L (m)\", -0.001), axis=1)\n",
    "\n",
    "# beräkna gitterkonstanten för alla försök\n",
    "df2[\"Lattice constant, d (nm)\"] = df2.apply(lambda row: calculate_lattice_constant(row), axis=1)\n",
    "\n",
    "# jämför vår justerade tabell med den ursprungliga\n",
    "compare_dataframes(df2)\n",
    "\n",
    "df2"
   ]
  },
  {
   "cell_type": "markdown",
   "id": "spanish-fisher",
   "metadata": {},
   "source": [
    "Felmarginalen är alltså cirka $0,4\\%$ av det faktiska resultatet vilket gör denna felkälla försumbar. I övrigt skulle andra mätfel kunna bidra till felaktiga resultat. T.ex. om avståndet $x$ mäts från mitten, från vänster eller från höger av laserns punkter. Om mätningarna sker konsekvent från samma plats på laserns punkter kommer det inte ge någon felmarginal men om mätvärdena mäts på olika sätt kommer det påverka resultat. Denna felmarginal är svår att uppskatta men är aldrig större än diametern på punkterna som syns mot ytan. Denna diameter uppskattas till cirka 1 mm vilket skulle ge samma felmarginal som ovan och därför är även denna felkälla försumbar."
   ]
  },
  {
   "cell_type": "markdown",
   "id": "designed-cheese",
   "metadata": {},
   "source": [
    "En annan felkälla kan vara det faktum att lasern som användes under laborationen inte var helt monokromatisk. Att en laser är monokromatisk betyder att den emitterar en enda färg, alltså att allt ljus som kommer från lasern har exakt samma våglängd. ${}^{5}$ De lasrar som användes under laborationen är inte helt monokromatiska, men nästan helt monokromatiska. Våglängden på ljuset som sänds ut kan ha lite varierande våglängd och därför ha inverkan i resultatet. Det faktum att den laser som användes under laborationen var nästan helt monokromatisk innebär att våglängden varierar mycket lite. Hur stort ett fel på t.ex. $1 \\ nm$ påverkar resultatet går att räkna på."
   ]
  },
  {
   "cell_type": "code",
   "execution_count": 7,
   "id": "running-timing",
   "metadata": {},
   "outputs": [
    {
     "name": "stdout",
     "output_type": "stream",
     "text": [
      "Nytt medelvärde med felmarginal: 1498 nm\n",
      "Felmarginal på medelvärdet jämfört med faktiska resultat: +/- 3 nm\n",
      "Felmarginalens förhållande till resultat: 0.2%\n"
     ]
    },
    {
     "data": {
      "text/html": [
       "<div>\n",
       "<style scoped>\n",
       "    .dataframe tbody tr th:only-of-type {\n",
       "        vertical-align: middle;\n",
       "    }\n",
       "\n",
       "    .dataframe tbody tr th {\n",
       "        vertical-align: top;\n",
       "    }\n",
       "\n",
       "    .dataframe thead th {\n",
       "        text-align: right;\n",
       "    }\n",
       "</style>\n",
       "<table border=\"1\" class=\"dataframe\">\n",
       "  <thead>\n",
       "    <tr style=\"text-align: right;\">\n",
       "      <th></th>\n",
       "      <th>Wavelength laser (nm)</th>\n",
       "      <th>n</th>\n",
       "      <th>x (m)</th>\n",
       "      <th>L (m)</th>\n",
       "      <th>Lattice constant, d (nm)</th>\n",
       "    </tr>\n",
       "  </thead>\n",
       "  <tbody>\n",
       "    <tr>\n",
       "      <th>0</th>\n",
       "      <td>662</td>\n",
       "      <td>1</td>\n",
       "      <td>0.282</td>\n",
       "      <td>0.287</td>\n",
       "      <td>1501.310545</td>\n",
       "    </tr>\n",
       "    <tr>\n",
       "      <th>1</th>\n",
       "      <td>662</td>\n",
       "      <td>1</td>\n",
       "      <td>0.625</td>\n",
       "      <td>0.648</td>\n",
       "      <td>1524.012134</td>\n",
       "    </tr>\n",
       "    <tr>\n",
       "      <th>2</th>\n",
       "      <td>630</td>\n",
       "      <td>1</td>\n",
       "      <td>0.604</td>\n",
       "      <td>0.648</td>\n",
       "      <td>1491.385601</td>\n",
       "    </tr>\n",
       "    <tr>\n",
       "      <th>3</th>\n",
       "      <td>630</td>\n",
       "      <td>1</td>\n",
       "      <td>0.302</td>\n",
       "      <td>0.323</td>\n",
       "      <td>1487.604987</td>\n",
       "    </tr>\n",
       "    <tr>\n",
       "      <th>4</th>\n",
       "      <td>630</td>\n",
       "      <td>2</td>\n",
       "      <td>1.030</td>\n",
       "      <td>0.323</td>\n",
       "      <td>1487.312643</td>\n",
       "    </tr>\n",
       "  </tbody>\n",
       "</table>\n",
       "</div>"
      ],
      "text/plain": [
       "   Wavelength laser (nm)  n  x (m)  L (m)  Lattice constant, d (nm)\n",
       "0                    662  1  0.282  0.287               1501.310545\n",
       "1                    662  1  0.625  0.648               1524.012134\n",
       "2                    630  1  0.604  0.648               1491.385601\n",
       "3                    630  1  0.302  0.323               1487.604987\n",
       "4                    630  2  1.030  0.323               1487.312643"
      ]
     },
     "execution_count": 7,
     "metadata": {},
     "output_type": "execute_result"
    }
   ],
   "source": [
    "# ny DataFrame\n",
    "df3 = pd.DataFrame(df)\n",
    "\n",
    "# Ta bort 1 nm på alla Wavelength laser\n",
    "df3[\"Wavelength laser (nm)\"] = df3.apply(lambda row: int(add_error_margin(row, \"Wavelength laser (nm)\", -1)), axis=1)\n",
    "\n",
    "# beräkna gitterkonstanten\n",
    "df3[\"Lattice constant, d (nm)\"] = df3.apply(lambda row: calculate_lattice_constant(row), axis=1)\n",
    "\n",
    "# jämför vår justerade tabell med den ursprungliga\n",
    "compare_dataframes(df3)\n",
    "\n",
    "df3"
   ]
  },
  {
   "cell_type": "markdown",
   "id": "worth-theorem",
   "metadata": {},
   "source": [
    "$0,2 \\%$ är en liten felmarginal vilket gör denna felkälla försumbar. Om våglängden hos en laser varierar kraftigt kan detta ha inverkan i resultatet."
   ]
  },
  {
   "cell_type": "markdown",
   "id": "touched-profession",
   "metadata": {},
   "source": [
    "Våglängden på de lasrar som användes under laborationen uppmättes under en annan, tidigare laboration. Eventuella felkällor på den laborationen kommer även påverka resultatet på denna laboration, eftersom resultatet i detta experiment bygger på att våglängden för använda lasrar är givet."
   ]
  },
  {
   "cell_type": "markdown",
   "id": "interpreted-priority",
   "metadata": {},
   "source": [
    "För att resultatet från detta experiment ska vara trovärdigt måste laserns ljus reflekteras mot CD-skivan på ett sådant sätt att dess infallsvinkel är $90^\\circ$ (d.v.s. vinkelrät mot CD-skivan, rakt uppåt). CD-skivan måste också vara parallell mot den yta som ljuset träffar efter att ha reflekterats mot CD-skivan. Om infallsvinkeln inte är rät kommer reflektionsvinklarna att bli annorlunda och ge fel i bestämning av spårbredden. Samtidigt kommer längden mellan laserns punkter att bli felaktiga om ytan inte är parallell mot CD-skivan. Denna felmarginal uppskattas till $1^\\circ$, d.v.s. att infallsvinkeln är $1^\\circ$ större eller mindre eller att CD-skivan inte är helt parallell mot ytan med en förskjutning på $\\pm 1^\\circ$. Hur stor inverkan denna felmarginal har på resultatet går att beräkna."
   ]
  },
  {
   "cell_type": "code",
   "execution_count": 8,
   "id": "overall-proceeding",
   "metadata": {},
   "outputs": [
    {
     "name": "stdout",
     "output_type": "stream",
     "text": [
      "Nytt medelvärde med felmarginal: 1453 nm\n",
      "Felmarginal på medelvärdet jämfört med faktiska resultat: +/- 48 nm\n",
      "Felmarginalens förhållande till resultat: 3.198%\n"
     ]
    },
    {
     "data": {
      "text/html": [
       "<div>\n",
       "<style scoped>\n",
       "    .dataframe tbody tr th:only-of-type {\n",
       "        vertical-align: middle;\n",
       "    }\n",
       "\n",
       "    .dataframe tbody tr th {\n",
       "        vertical-align: top;\n",
       "    }\n",
       "\n",
       "    .dataframe thead th {\n",
       "        text-align: right;\n",
       "    }\n",
       "</style>\n",
       "<table border=\"1\" class=\"dataframe\">\n",
       "  <thead>\n",
       "    <tr style=\"text-align: right;\">\n",
       "      <th></th>\n",
       "      <th>Wavelength laser (nm)</th>\n",
       "      <th>n</th>\n",
       "      <th>x (m)</th>\n",
       "      <th>L (m)</th>\n",
       "      <th>Lattice constant, d (nm)</th>\n",
       "    </tr>\n",
       "  </thead>\n",
       "  <tbody>\n",
       "    <tr>\n",
       "      <th>0</th>\n",
       "      <td>662</td>\n",
       "      <td>1</td>\n",
       "      <td>0.282</td>\n",
       "      <td>0.287</td>\n",
       "      <td>1450.021280</td>\n",
       "    </tr>\n",
       "    <tr>\n",
       "      <th>1</th>\n",
       "      <td>662</td>\n",
       "      <td>1</td>\n",
       "      <td>0.625</td>\n",
       "      <td>0.648</td>\n",
       "      <td>1471.001640</td>\n",
       "    </tr>\n",
       "    <tr>\n",
       "      <th>2</th>\n",
       "      <td>630</td>\n",
       "      <td>1</td>\n",
       "      <td>0.604</td>\n",
       "      <td>0.648</td>\n",
       "      <td>1437.763850</td>\n",
       "    </tr>\n",
       "    <tr>\n",
       "      <th>3</th>\n",
       "      <td>630</td>\n",
       "      <td>1</td>\n",
       "      <td>0.302</td>\n",
       "      <td>0.323</td>\n",
       "      <td>1434.278977</td>\n",
       "    </tr>\n",
       "    <tr>\n",
       "      <th>4</th>\n",
       "      <td>630</td>\n",
       "      <td>2</td>\n",
       "      <td>1.030</td>\n",
       "      <td>0.323</td>\n",
       "      <td>1471.430649</td>\n",
       "    </tr>\n",
       "  </tbody>\n",
       "</table>\n",
       "</div>"
      ],
      "text/plain": [
       "   Wavelength laser (nm)  n  x (m)  L (m)  Lattice constant, d (nm)\n",
       "0                    662  1  0.282  0.287               1450.021280\n",
       "1                    662  1  0.625  0.648               1471.001640\n",
       "2                    630  1  0.604  0.648               1437.763850\n",
       "3                    630  1  0.302  0.323               1434.278977\n",
       "4                    630  2  1.030  0.323               1471.430649"
      ]
     },
     "execution_count": 8,
     "metadata": {},
     "output_type": "execute_result"
    }
   ],
   "source": [
    "# ny DataFrame\n",
    "df4 = pd.DataFrame(df)\n",
    "\n",
    "# till funktionen calculate_lattice_constant passas nu en till variabel med\n",
    "# np.radians(1) är 1 grads felmarginal i radianer som läggs på på varje vinkel\n",
    "df4[\"Lattice constant, d (nm)\"] = df.apply(lambda row: calculate_lattice_constant(row, np.radians(1)), axis=1)\n",
    "\n",
    "# jämför vår justerade tabell med den ursprungliga\n",
    "compare_dataframes(df4)\n",
    "\n",
    "df4"
   ]
  },
  {
   "cell_type": "markdown",
   "id": "revolutionary-syndication",
   "metadata": {},
   "source": [
    "Denna felkälla har alltså en felmarginal på cirka $3\\%$ vilket gör denna felkälla till relativt trolig. Eftersom ögonmått användes för att se till att CD-skivan var parallell mot ytan och att lasern stod rakt upp, är det troligt att vinklarna var lite fel, om inte möjligt ännu större än den 1 grad som beräknats med. Huruvida denna felkälla påverkar trovärdigheten hos resultatet eller inte är svårt att säga eftersom eventuella fel av denna typ kommer av största sannolikhet vara lika stora i samtliga mätvärden. Eftersom endast avståndet mellan CD-skivan och ytan förändrades mellan mätvärdena skulle en felaktig vinkel vara lika fel i alla försök och därför inte skapa ett uppenbart fel mellan mätvärdena. Resultatet skulle bli mindre trovärdigt, men utan att ta fram den faktiska gitterkonstanten för en CD-skiva är det omöjligt att veta om det är trovärdigt eller ej."
   ]
  },
  {
   "cell_type": "markdown",
   "id": "israeli-weather",
   "metadata": {},
   "source": [
    "Den CD-skiva som användes under laborationen var inte en helt ny CD-skiva. Det är mycket möjligt att den CD-skiva som användes under laborationen var repig. Att CD-skivan är repig kan förändra CD-skivans egenskaper som diffraktionsgitter, t.ex. om spårbredden är bredare eller smalare på vissa ställen än vad den ska vara så kan laserns reflekteras annorlunda beroende på var strålen träffar CD-skivan (olika gitterkonstant för olika ytor på CD-skivan). Om lasern reflekteras mot olika ställen på CD-skivan i de olika mätningarna kommer det ha inverkan på resultatet, men om lasern hela tiden riktas mot samma ställe kommer det inte påverka resultatet men försämra trovärdigheten. Hur stor inverkan denna felkälla faktiskt har på resultatet är mycket svår att bestämma."
   ]
  },
  {
   "cell_type": "markdown",
   "id": "needed-pierre",
   "metadata": {},
   "source": [
    "### Utvärdering av metod\n",
    "\n",
    "Som nämnt tidigare är en felkälla att det går att välja att mäta avståndet $x$ från olika ställen på laserns punkter, vilket kan skapa fel i resultatet. Detta kan med hjälp av metoden undvikas genom att t.ex. bestämma i förväg var på laserns punkter avståndet mäts från eller genom att låta samtliga i gruppen mäta samma avstånd och använda ett medelvärde av det.\n",
    "\n",
    "En av felkällorna för laborationen är att det är svårt att se till att CD-skivan är helt horisontell mot ytan under där lasern syns. Som observerat tidigare ligger laborationens resultat konsekvent lite från det standardiserade värdet för CD-skivor. Detta skulle kunna tyda på ett systematiskt fel i metoden, t.ex. att vinkeln för CD-skivan i förhållande till ytan är förskjuten några grader. Detta systematiska fel skulle kunna förebyggas genom att använda vattenpass för att på så sätt se till att lasern pekar rakt uppåt och att CD-skivan är helt horisontell."
   ]
  },
  {
   "cell_type": "markdown",
   "id": "alpha-stake",
   "metadata": {},
   "source": [
    "### Slutsats\n",
    "\n",
    "Sammanfattningsvis har laborationen alltså empiriskt bestämt spårbredden (gitterkonstanten) hos en CD-skiva till $1501 \\ nm$. Genom att jämföra det empiriska resultatet med det faktiska värdet för en CD-skiva går det att dra slutsatsen att laborationens resultat är påverkat av ett systematiskt fel i metoden. Det har konstaterats att endast $2^\\circ$ i förskjutning skulle ha lett till att resultatet skulle ha hamnat mer eller mindre exakt på det faktiska värdet för gitterkonstanten vilket gör det troligt att CD-skivan var monterad lite snett under laborationen. Detta styrks ytterligare med att standardavvikelsen är låg vilket betyder att alla mätvärden var nära varandra, låg spridning. Felet som nämnts skulle ha påverkat samtliga mätvärden lika mycket. I övrigt är således metoden korrekt och tillförlitlig."
   ]
  },
  {
   "cell_type": "markdown",
   "id": "partial-peter",
   "metadata": {},
   "source": [
    "## Källhänvisningar\n",
    "\n",
    "1. Alphonce, R., Bergström, L., Gunnvald, P., Johansson, E., & Nilsson, R. (2012). *Heureka! Fysik 2 (1 uppl.)*. Natur & Kultur.\n",
    "1. Nationalencyklopedin. *Gitter*. Hämtad 2021-04-02 från https://www.ne.se/uppslagsverk/encyklopedi/l%C3%A5ng/gitter\n",
    "1. International Standard (1999-02-10, edition 2.0). *IEC 60908 Audio recording - Compact disc digital audio system*. International Electrotechnical Commission https://webstore.iec.ch/publication/3885\n",
    "1. Nationalencyklopedin. *Standardavvikelse*. Hämtad 2021-03-31 från https://www.ne.se/uppslagsverk/encyklopedi/l%C3%A5ng/standardavvikelse\n",
    "1. Laser Radiation Properties. (9 juni 2020). Hämtad 2021-03-31 från https://chem.libretexts.org/@go/page/74652"
   ]
  }
 ],
 "metadata": {
  "kernelspec": {
   "display_name": "Python 3",
   "language": "python",
   "name": "python3"
  },
  "language_info": {
   "codemirror_mode": {
    "name": "ipython",
    "version": 3
   },
   "file_extension": ".py",
   "mimetype": "text/x-python",
   "name": "python",
   "nbconvert_exporter": "python",
   "pygments_lexer": "ipython3",
   "version": "3.7.3"
  }
 },
 "nbformat": 4,
 "nbformat_minor": 5
}
