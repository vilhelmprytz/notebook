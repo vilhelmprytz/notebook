{
 "cells": [
  {
   "cell_type": "markdown",
   "id": "lovely-chapter",
   "metadata": {},
   "source": [
    "# 2021-02-04"
   ]
  },
  {
   "cell_type": "markdown",
   "id": "advisory-spectacular",
   "metadata": {},
   "source": [
    "Vi har en vattenkokare på 2200 W. Vi ska med denna vattenkokare värma 1,25 liter vatten så att det kokar. Vattnet har från början en temperatur på 12 grader celsius. Hur lång tid tar detta?"
   ]
  },
  {
   "cell_type": "code",
   "execution_count": 4,
   "id": "secret-isolation",
   "metadata": {},
   "outputs": [
    {
     "name": "stdout",
     "output_type": "stream",
     "text": [
      "Totalt kommer det behövas 458420.60000000003 J att värma upp vattnet\n",
      "Det kommer att ta 208.37300000000002 sekunder\n",
      "Svar: 3 min, 28.37300000000002 sekunder\n"
     ]
    }
   ],
   "source": [
    "from math import floor\n",
    "\n",
    "power = 2200 # W\n",
    "volume = 1.25 # l\n",
    "density = 0.997 # detta gäller för vatten\n",
    "mass = volume * density # kg, vatten\n",
    "\n",
    "# Temperaturer\n",
    "T0 = 12  # degC\n",
    "T1 = 100 # degC\n",
    "\n",
    "# Specifik värmekapacitet\n",
    "specific_heat_capacity = 4180 # J/(kg*C) eller J/(kg * K)\n",
    "\n",
    "energy_required = specific_heat_capacity * (T1 - T0) * mass\n",
    "\n",
    "# så här mycket energi kommer behövas\n",
    "print(f\"Totalt kommer det behövas {energy_required} J att värma upp vattnet\")\n",
    "\n",
    "# hur lång tid det tar att värma\n",
    "# obs! förutsatt att hela vattenkokarens effekt går till att värma vattnet\n",
    "# i verkligheten är det en del svinn (verkningsgrad är ej 100%)\n",
    "time = energy_required / power # sekunder\n",
    "pretty_time = f\"{floor(time/60)} min, {time % 60} sekunder\"\n",
    "print(f\"Det kommer att ta {time} sekunder\")\n",
    "print(f\"Svar: {pretty_time}\")\n"
   ]
  }
 ],
 "metadata": {
  "kernelspec": {
   "display_name": "Python 3",
   "language": "python",
   "name": "python3"
  },
  "language_info": {
   "codemirror_mode": {
    "name": "ipython",
    "version": 3
   },
   "file_extension": ".py",
   "mimetype": "text/x-python",
   "name": "python",
   "nbconvert_exporter": "python",
   "pygments_lexer": "ipython3",
   "version": "3.9.1"
  }
 },
 "nbformat": 4,
 "nbformat_minor": 5
}
