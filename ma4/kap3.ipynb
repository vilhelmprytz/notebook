{
 "cells": [
  {
   "cell_type": "markdown",
   "id": "accredited-hughes",
   "metadata": {},
   "source": [
    "# Kapitel 3"
   ]
  },
  {
   "cell_type": "code",
   "execution_count": 3,
   "id": "faced-seattle",
   "metadata": {},
   "outputs": [
    {
     "name": "stdout",
     "output_type": "stream",
     "text": [
      "Sträcka: 250 m\n",
      "Tid: 10 s\n",
      "Hastighet: 25.0 m/s\n"
     ]
    }
   ],
   "source": [
    "s = 250\n",
    "t = 10\n",
    "\n",
    "print(f\"Sträcka: {s} m\")\n",
    "print(f\"Tid: {t} s\")\n",
    "print(f\"Hastighet: {s/t} m/s\")"
   ]
  },
  {
   "cell_type": "markdown",
   "id": "elder-cricket",
   "metadata": {},
   "source": [
    "## 3134\n",
    "\n",
    "$$\n",
    "V(x) = f(x) \\cdot g(x) \\cdot h(x)\n",
    "$$\n",
    "\n",
    "### a)\n",
    "\n",
    "$$\n",
    "\\Delta V = (f + \\Delta f) \\cdot (g + \\Delta g) \\cdot (h + \\Delta h) - f \\cdot g \\cdot h \\\\\n",
    "\\Delta V = f \\cdot g \\cdot h + f \\cdot \\Delta g \\cdot \\Delta h + f \\cdot g \\cdot \\Delta h + f \\cdot \\Delta g \\cdot h + \\Delta f \\cdot g \\cdot h + \\Delta f \\cdot \\Delta g \\cdot \\Delta h + \\Delta f \\cdot g \\cdot \\Delta h + \\Delta f \\cdot \\Delta g \\cdot h - f \\cdot g \\cdot h \\\\\n",
    "$$\n",
    "\n",
    "$$\n",
    "\\Delta V = f \\cdot \\Delta g \\cdot \\Delta h + f \\cdot g \\cdot \\Delta h + f \\cdot \\Delta g \\cdot h + \\Delta f \\cdot g \\cdot h + \\Delta f \\cdot \\Delta g \\cdot \\Delta h + \\Delta f \\cdot g \\cdot \\Delta h + \\Delta f \\cdot \\Delta g \\cdot h\n",
    "$$\n",
    "\n",
    "### b)\n",
    "\n",
    "Söker svar på:\n",
    "\n",
    "$$\n",
    "\\lim_{\\Delta x \\to 0} \\frac{\\Delta V}{\\Delta x}\n",
    "$$\n",
    "\n",
    "Börjar med $\\frac{\\Delta V}{\\Delta x}$.\n",
    "\n",
    "$$\n",
    "\\frac{\\Delta V}{\\Delta x} = f \\cdot \\frac{\\Delta g}{\\Delta x} \\cdot \\Delta h + f \\cdot g \\cdot \\frac{\\Delta h}{\\Delta x} + f \\cdot \\frac{\\Delta g}{\\Delta x} \\cdot h + \\frac{\\Delta f}{\\Delta x} \\cdot g \\cdot h + \\frac{\\Delta f \\cdot \\Delta g \\cdot \\Delta h}{\\Delta x} + \\frac{\\Delta f}{\\Delta x} \\cdot g \\cdot \\Delta h + \\frac{\\Delta f}{\\Delta x} \\cdot \\Delta g \\cdot h\n",
    "$$\n",
    "\n",
    "$$\n",
    "\\frac{\\Delta V}{\\Delta x} = f \\cdot g' \\cdot \\Delta h + f \\cdot g \\cdot h' + f \\cdot g' \\cdot h + f' \\cdot g \\cdot h + f' \\cdot \\Delta g \\cdot \\Delta h + f' \\cdot g \\cdot \\Delta h\n",
    "$$\n"
   ]
  }
 ],
 "metadata": {
  "kernelspec": {
   "display_name": "Python 3",
   "language": "python",
   "name": "python3"
  },
  "language_info": {
   "codemirror_mode": {
    "name": "ipython",
    "version": 3
   },
   "file_extension": ".py",
   "mimetype": "text/x-python",
   "name": "python",
   "nbconvert_exporter": "python",
   "pygments_lexer": "ipython3",
   "version": "3.9.1"
  }
 },
 "nbformat": 4,
 "nbformat_minor": 5
}
